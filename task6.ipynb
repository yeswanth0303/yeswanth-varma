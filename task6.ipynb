{
 "cells": [
  {
   "cell_type": "code",
   "execution_count": 1,
   "id": "333c109e-92ee-4c92-9b20-d1504c676311",
   "metadata": {},
   "outputs": [
    {
     "name": "stdout",
     "output_type": "stream",
     "text": [
      "Solution exists. Assigned colors:\n",
      "[1, 2, 3, 2]\n"
     ]
    },
    {
     "data": {
      "text/plain": [
       "True"
      ]
     },
     "execution_count": 1,
     "metadata": {},
     "output_type": "execute_result"
    }
   ],
   "source": [
    "class Graph:\n",
    "    def __init__(self, vertices):\n",
    "        self.v = vertices\n",
    "        self.graph = [[0 for _ in range(vertices)] for _ in range(vertices)]\n",
    "\n",
    "    def is_safe(self, v, color, c):\n",
    "        for i in range(self.v):\n",
    "            if self.graph[v][i] == 1 and color[i] == c:\n",
    "                return False\n",
    "        return True\n",
    "\n",
    "    def graph_color_util(self, m, color, v):\n",
    "        if v == self.v:\n",
    "            return True\n",
    "        for c in range(1, m+1):\n",
    "            if self.is_safe(v, color, c):\n",
    "                color[v] = c\n",
    "                if self.graph_color_util(m, color, v+1):\n",
    "                    return True\n",
    "                color[v] = 0\n",
    "        return False\n",
    "\n",
    "    def graph_coloring(self, m):\n",
    "        color = [0] * self.v\n",
    "        if not self.graph_color_util(m, color, 0):\n",
    "            print(\"No solution exists.\")\n",
    "            return False\n",
    "        print(\"Solution exists. Assigned colors:\")\n",
    "        print(color)\n",
    "        return True\n",
    "\n",
    "\n",
    "# Driver Code\n",
    "g = Graph(4)\n",
    "g.graph = [\n",
    "    [0, 1, 1, 1],\n",
    "    [1, 0, 1, 0],\n",
    "    [1, 1, 0, 1],\n",
    "    [1, 0, 1, 0]\n",
    "]\n",
    "m = 3\n",
    "g.graph_coloring(m)\n",
    "\n"
   ]
  },
  {
   "cell_type": "code",
   "execution_count": null,
   "id": "0f96dc48-8e7c-45a3-9e88-c040c9beac32",
   "metadata": {},
   "outputs": [],
   "source": []
  }
 ],
 "metadata": {
  "kernelspec": {
   "display_name": "Python 3 (ipykernel)",
   "language": "python",
   "name": "python3"
  },
  "language_info": {
   "codemirror_mode": {
    "name": "ipython",
    "version": 3
   },
   "file_extension": ".py",
   "mimetype": "text/x-python",
   "name": "python",
   "nbconvert_exporter": "python",
   "pygments_lexer": "ipython3",
   "version": "3.12.8"
  }
 },
 "nbformat": 4,
 "nbformat_minor": 5
}
