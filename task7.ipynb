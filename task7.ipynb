{
 "cells": [
  {
   "cell_type": "code",
   "execution_count": 1,
   "id": "f32d3353-8342-4072-aa48-c00af856eddd",
   "metadata": {},
   "outputs": [
    {
     "name": "stdout",
     "output_type": "stream",
     "text": [
      "Plan:\n",
      "Move Monkey from 0 to 1\n",
      "Climb box at 1 Up\n",
      "Have banana at 1\n"
     ]
    }
   ],
   "source": [
    "def move(subject, x1, x2):\n",
    "    return f\"Move {subject} from {x1} to {x2}\"\n",
    "\n",
    "def push_box(x1, x2):\n",
    "    return f\"Push box from {x1} to {x2}\"\n",
    "\n",
    "def climb_box(x, direction):\n",
    "    return f\"Climb box at {x} {direction}\"\n",
    "\n",
    "def have_banana(x):\n",
    "    return f\"Have banana at {x}\"\n",
    "\n",
    "initial_state = {\n",
    "    'monkeyAt0': True,\n",
    "    'monkeyLevel': 'Down',\n",
    "    'bananaAt1': True,\n",
    "    'boxAt2': True\n",
    "}\n",
    "\n",
    "goal_state = {\n",
    "    'GetBanana': True,\n",
    "    'at': 1\n",
    "}\n",
    "\n",
    "def plan_actions(initial_state, goal_state):\n",
    "    actions = []\n",
    "    if initial_state['monkeyAt0'] and initial_state['bananaAt1']:\n",
    "        actions.append(move('Monkey', 0, 1))\n",
    "        actions.append(climb_box(1, 'Up'))\n",
    "        actions.append(have_banana(1))\n",
    "    return actions\n",
    "\n",
    "actions = plan_actions(initial_state, goal_state)\n",
    "\n",
    "print(\"Plan:\")\n",
    "for action in actions:\n",
    "    print(action)\n",
    "\n"
   ]
  },
  {
   "cell_type": "code",
   "execution_count": null,
   "id": "e1b45137-c2d8-49de-9a40-dbe9191809dd",
   "metadata": {},
   "outputs": [],
   "source": []
  }
 ],
 "metadata": {
  "kernelspec": {
   "display_name": "Python 3 (ipykernel)",
   "language": "python",
   "name": "python3"
  },
  "language_info": {
   "codemirror_mode": {
    "name": "ipython",
    "version": 3
   },
   "file_extension": ".py",
   "mimetype": "text/x-python",
   "name": "python",
   "nbconvert_exporter": "python",
   "pygments_lexer": "ipython3",
   "version": "3.12.8"
  }
 },
 "nbformat": 4,
 "nbformat_minor": 5
}
