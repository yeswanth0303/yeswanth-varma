{
 "cells": [
  {
   "cell_type": "code",
   "execution_count": 1,
   "id": "fe399653-0b69-4074-af7a-79726b9f94b0",
   "metadata": {},
   "outputs": [
    {
     "name": "stdout",
     "output_type": "stream",
     "text": [
      "john_is_cold. - No\n",
      "raining. - Yes\n",
      "john_Forgot_His_Raincoat. - Yes\n",
      "fred_lost_his_car_keys. - No\n",
      "peter_footballer. - No\n"
     ]
    }
   ],
   "source": [
    "facts = [\n",
    "    \"john_is_cold.\",\n",
    "    \"raining.\",\n",
    "    \"john_Forgot_His_Raincoat.\",\n",
    "    \"fred_lost_his_car_keys.\",\n",
    "    \"peter_footballer.\"\n",
    "]\n",
    "\n",
    "def verify_fact(fact):\n",
    "    fact = fact.rstrip(\".\")\n",
    "    if fact in [\"john_Forgot_His_Raincoat\", \"raining\", \"foggy\"]:\n",
    "        return True\n",
    "    return False\n",
    "\n",
    "for fact in facts:\n",
    "    if verify_fact(fact):\n",
    "        print(f\"{fact} - Yes\")\n",
    "    else:\n",
    "        print(f\"{fact} - No\")\n",
    "\n",
    "\n"
   ]
  },
  {
   "cell_type": "code",
   "execution_count": null,
   "id": "7ce716b0-8067-46f3-b0e5-bb0abda550ce",
   "metadata": {},
   "outputs": [],
   "source": []
  }
 ],
 "metadata": {
  "kernelspec": {
   "display_name": "Python 3 (ipykernel)",
   "language": "python",
   "name": "python3"
  },
  "language_info": {
   "codemirror_mode": {
    "name": "ipython",
    "version": 3
   },
   "file_extension": ".py",
   "mimetype": "text/x-python",
   "name": "python",
   "nbconvert_exporter": "python",
   "pygments_lexer": "ipython3",
   "version": "3.12.8"
  }
 },
 "nbformat": 4,
 "nbformat_minor": 5
}
